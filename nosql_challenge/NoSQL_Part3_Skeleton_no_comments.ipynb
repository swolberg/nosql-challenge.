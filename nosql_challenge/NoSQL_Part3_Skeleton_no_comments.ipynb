{
 "cells": [
  {
   "cell_type": "code",
   "execution_count": null,
   "id": "300019fc",
   "metadata": {},
   "outputs": [],
   "source": [
    "from pymongo import MongoClient\n",
    "import pandas as pd\n",
    "from pprint import pprint"
   ]
  },
  {
   "cell_type": "code",
   "execution_count": null,
   "id": "58e33fdf",
   "metadata": {},
   "outputs": [],
   "source": [
    "mongo = MongoClient(port=27017)"
   ]
  },
  {
   "cell_type": "code",
   "execution_count": null,
   "id": "a726fcf7",
   "metadata": {},
   "outputs": [],
   "source": [
    "db = mongo['uk_food']"
   ]
  },
  {
   "cell_type": "code",
   "execution_count": null,
   "id": "daaed532",
   "metadata": {},
   "outputs": [],
   "source": [
    "print(db.list_collection_names())"
   ]
  },
  {
   "cell_type": "code",
   "execution_count": null,
   "id": "befb63a5",
   "metadata": {},
   "outputs": [],
   "source": [
    "establishments = db['establishments']"
   ]
  },
  {
   "cell_type": "code",
   "execution_count": null,
   "id": "75fd965d",
   "metadata": {
    "scrolled": true
   },
   "outputs": [],
   "source": [
    "query = {'scores.Hygiene': 20}\n",
    "print(\"Number of documents in result: \", establishments.count_documents(query))\n",
    "print(\"First result:\")\n",
    "results = establishments.find(query)\n",
    "pprint(results[0])"
   ]
  },
  {
   "cell_type": "code",
   "execution_count": null,
   "id": "fa5775d8",
   "metadata": {},
   "outputs": [],
   "source": [
    "hygienic_20 = establishments.find(query)\n",
    "hygienic_20_df = pd.DataFrame(hygienic_20)\n",
    "print(\"Documents in DataFrame: \", len(hygienic_20_df))\n",
    "hygienic_20_df.head(10)"
   ]
  },
  {
   "cell_type": "code",
   "execution_count": null,
   "id": "fd290d7c",
   "metadata": {},
   "outputs": [],
   "source": [
    "query = {'LocalAuthorityName': {'$regex':'London'}, 'RatingValue': {'$gte': 4}}\n",
    "print(\"Number of documents in result: \", establishments.count_documents(query))\n",
    "print(\"First result:\")\n",
    "results = establishments.find(query)\n",
    "pprint(results[0])"
   ]
  },
  {
   "cell_type": "code",
   "execution_count": null,
   "id": "5183b94b",
   "metadata": {},
   "outputs": [],
   "source": [
    "london_4s = establishments.find(query)\n",
    "london_4s_df = pd.DataFrame(london_4s)\n",
    "print(\"Documents in DataFrame: \", len(london_4s_df))\n",
    "london_4s_df.head(10)"
   ]
  },
  {
   "cell_type": "code",
   "execution_count": null,
   "id": "2f60c256",
   "metadata": {},
   "outputs": [],
   "source": [
    "\n",
    "degree_search = 0.01\n",
    "latitude = 51.49014200\n",
    "longitude = 0.08384000\n",
    "\n",
    "query = {'geocode.latitude': {'$gte':latitude-degree_search, '$lte':latitude+degree_search}, \n",
    "         'geocode.longitude': {'$gte': longitude-degree_search, '$lte': longitude+degree_search},\n",
    "         'RatingValue': 5}\n",
    "sort = [('score.Hygiene', 1)]\n",
    "limit = 5\n",
    "\n",
    "pprint(list(establishments.find(query).sort(sort).limit(limit)))"
   ]
  },
  {
   "cell_type": "code",
   "execution_count": null,
   "id": "e5236f15",
   "metadata": {},
   "outputs": [],
   "source": [
    "near_flavours = establishments.find(query).sort(sort).limit(limit)\n",
    "near_flavours_df = pd.DataFrame(near_flavours)\n",
    "near_flavours_df"
   ]
  },
  {
   "cell_type": "code",
   "execution_count": null,
   "id": "3ab83bc5",
   "metadata": {},
   "outputs": [],
   "source": [
    "\n",
    "pipeline = [\n",
    "    {'$match': {'scores.Hygiene': 0}},\n",
    "    {'$group': {'_id': \"$LocalAuthorityName\", 'count': { '$sum': 1 }}},\n",
    "    {'$sort': { 'count': -1 }}\n",
    "]\n",
    "\n",
    "results = list(establishments.aggregate(pipeline))\n",
    "\n",
    "print(\"Number of documents in result: \", len(results))\n",
    "\n",
    "pprint(results[0:10])"
   ]
  },
  {
   "cell_type": "code",
   "execution_count": null,
   "id": "01be386f",
   "metadata": {
    "scrolled": false
   },
   "outputs": [],
   "source": [
    "result_df = pd.DataFrame(results)\n",
    "\n",
    "print(\"Rows in DataFrame: \", len(result_df))\n",
    "result_df.head(10)"
   ]
  },
  {
   "cell_type": "code",
   "execution_count": null,
   "id": "a86d08af",
   "metadata": {},
   "outputs": [],
   "source": []
  }
 ],
 "metadata": {
  "kernelspec": {
   "display_name": "Python 3 (ipykernel)",
   "language": "python",
   "name": "python3"
  },
  "language_info": {
   "codemirror_mode": {
    "name": "ipython",
    "version": 3
   },
   "file_extension": ".py",
   "mimetype": "text/x-python",
   "name": "python",
   "nbconvert_exporter": "python",
   "pygments_lexer": "ipython3",
   "version": "3.9.13"
  }
 },
 "nbformat": 4,
 "nbformat_minor": 5
}
